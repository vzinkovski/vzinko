{
  "cells": [
    {
      "cell_type": "markdown",
      "metadata": {
        "id": "view-in-github",
        "colab_type": "text"
      },
      "source": [
        "<a href=\"https://colab.research.google.com/github/vzinkovski/vzinkovski/blob/main/forecasting_cot_managed_money.ipynb\" target=\"_parent\"><img src=\"https://colab.research.google.com/assets/colab-badge.svg\" alt=\"Open In Colab\"/></a>"
      ]
    },
    {
      "cell_type": "markdown",
      "metadata": {
        "id": "CtM5VS1o-SCN"
      },
      "source": [
        "# FORECASTING COMMITMENT OF TRADERS MANAGED MONEY POSITIONS FOR AGRICULTURAL COMMODITIES"
      ]
    },
    {
      "cell_type": "markdown",
      "metadata": {
        "id": "4-iLZTFAkApr"
      },
      "source": [
        "# Introduction\n",
        "\n",
        "Agricultural commodity futures prices are determined by many factors, however it is well accepted that the primary drivers are supply and demand fundamentals. Prior to expiration, commodity futures contracts enter a delivery period during which cash (i.e. physical) and futures markets will need to converge. Non-covergence is resolved through arbitrage.\n",
        "\n",
        "However, prior to the delivery period, futures markets do in fact reguarly disconnect from their underlying fundamentals. One powerful force which can influence the price of futures markets is speculative money.\n",
        "\n",
        "The Commodity Futures Trading Commission (CFTC) releases a weekly publication that shows the aggregate holdings of different participants in the U.S. futures markets. This publication is known as the Commitment of Traders (COT) report and released every Friday at 3:30PM Eastern time, showing data from the end of day Tuesday earlier in that same week. As such, the report is a lagging indicator, but nevertheless closely watched by all market participants.\n",
        "\n",
        "The CFTC releases four different versions of the COT report, all of which contain a breakdown of the open interest into long, short and spread positions across the different participants, but differ in terms of how a participant class is constituted. All reports, except the legacy report, are further broken down into two versions, one contains futures positions only, the other contains both futures and options positions combined.\n",
        "\n",
        "Given we are specifically interested in speculative money positioning in the agricultural futures markets, we can therefore consider either the supplemental report or the disaggregated report. The supplemental report covers 13 different agricultural markets, the disaggregated report covers over 150 different commodities across agriculture, energy and metals.\n",
        "\n",
        "In terms of market participant definitions, the supplemental report labels both hedge funds and proprietary traders under the umbrella term 'non-commercials'. The disaggregated report keeps these two groups seperate as 'managed money' and 'other reportables', respectively.\n",
        "\n",
        "The non-commercials and managed money positions are in fact highly correlated and being able to forecast what the position is for either of these two groups ahead of time can significantly help guide one's own trading strategy.\n",
        "\n",
        "In this project we will build a supervised machine learning model to forecast the disaggregated report's managed money combined futures and options net position for CME corn. Although the analysis is specific to corn, the code is easily adaptable to any other agricultural commodity covered by the COT."
      ]
    },
    {
      "cell_type": "markdown",
      "metadata": {
        "id": "JoKpmVoyiMwG"
      },
      "source": [
        "# Libraries"
      ]
    },
    {
      "cell_type": "code",
      "execution_count": 1,
      "metadata": {
        "id": "N38HJl8FseR1"
      },
      "outputs": [],
      "source": [
        "%%capture\n",
        "\n",
        "# install missing libraries\n",
        "!pip install cot_reports # funds positioning data\n",
        "!pip install optuna # bayesian optimisation for hyperparameter tuning\n",
        "!pip install watermark # record dependencies"
      ]
    },
    {
      "cell_type": "code",
      "execution_count": 2,
      "metadata": {
        "id": "JozjHxuaYpak"
      },
      "outputs": [],
      "source": [
        "# standard libraries\n",
        "import numpy as np\n",
        "import pandas as pd\n",
        "from scipy.stats import shapiro\n",
        "import statsmodels.api as sm\n",
        "\n",
        "# api libraries\n",
        "import cot_reports as cot\n",
        "import yfinance as yf\n",
        "\n",
        "# machine learning libraries\n",
        "import optuna\n",
        "import xgboost as xgb\n",
        "\n",
        "# visualisation libraries\n",
        "import matplotlib.pyplot as plt\n",
        "import seaborn as sns\n",
        "from xgboost import plot_importance\n",
        "\n",
        "# performance metrics\n",
        "from sklearn.metrics import mean_absolute_error, mean_absolute_percentage_error, mean_squared_error\n",
        "from sklearn.model_selection import cross_val_score, TimeSeriesSplit\n",
        "\n",
        "# utilities\n",
        "from functools import partial\n",
        "from tqdm import trange, tqdm"
      ]
    },
    {
      "cell_type": "code",
      "execution_count": 3,
      "metadata": {
        "id": "Nh31X7DnauRw"
      },
      "outputs": [],
      "source": [
        "# display\n",
        "pd.set_option('display.max_columns', None)\n",
        "pd.set_option('display.max_rows', 250)\n",
        "pd.set_option('display.width', None)\n",
        "pd.set_option('display.float_format', lambda x: '{:.2f}'.format(x))\n",
        "tqdm = partial(tqdm, position=0, leave=True)"
      ]
    },
    {
      "cell_type": "markdown",
      "metadata": {
        "id": "f2lREMchHh-K"
      },
      "source": [
        "# Commitment of Traders report"
      ]
    },
    {
      "cell_type": "markdown",
      "metadata": {
        "id": "mHO6KLfSEgCA"
      },
      "source": [
        "## Load data"
      ]
    },
    {
      "cell_type": "code",
      "execution_count": 4,
      "metadata": {
        "id": "9YUvVvroJN6M"
      },
      "outputs": [],
      "source": [
        "%%capture\n",
        "\n",
        "# download combined futures and options disaggregated report\n",
        "cot_report = cot.cot_all(cot_report_type='disaggregated_futopt')"
      ]
    },
    {
      "cell_type": "markdown",
      "metadata": {
        "id": "EYaHPLF9EuJL"
      },
      "source": [
        "## Preprocess data\n",
        "\n",
        "First we need to calculate the managed money net position by subtracting the shorts from the longs.\n",
        "\n",
        "Next, because our focus is on forecasting CME corn net positions, we will also need to consider other agricultural commodities which are cointegrated with corn. Specifically, we will use data for soybeans, SRW wheat and HRW wheat. This is not an exhaustive list, but rather a starting point.\n",
        "\n",
        "Cointegration can be thought of in two camps.\n",
        "\n",
        "On the supply side, soybeans, SRW wheat and HRW wheat compete with corn for planting acres. This is the order from most competitive to least, whereby soybeans and corn acres overlap the most (albeit often through crop rotation). Therefore, ceteris paribus, more corn plantings will result in lower corn prices, but also in lower soybean plantings and higher soybean prices. The same logic applies to wheat versus corn acres.\n",
        "\n",
        "On the demand side, corn and wheat are - to a certain degree - fungible as an animal feed. This is true mostly for low quality wheat, often a result of poor growing conditions. For example, and again holding all other things equal, if corn prices become very expensive, a feedlot may opt to increase the amount of wheat in their ration as a substitute for corn.\n",
        "\n",
        "In other words, cointegration serves to prevent prices of two commodities from diverging indefinitely."
      ]
    },
    {
      "cell_type": "code",
      "execution_count": 5,
      "metadata": {
        "id": "LHdn3dCi0l9X"
      },
      "outputs": [],
      "source": [
        "# calculate net managed money positions\n",
        "cot_report['M_Money_Positions_Net_Position'] = cot_report['M_Money_Positions_Long_All'] - cot_report['M_Money_Positions_Short_All']"
      ]
    },
    {
      "cell_type": "code",
      "execution_count": 6,
      "metadata": {
        "id": "R0cbcfv7vjXG"
      },
      "outputs": [],
      "source": [
        "# keep only managed money long and short positions\n",
        "cols_to_keep = [\n",
        "    'Market_and_Exchange_Names',\n",
        "    'Report_Date_as_YYYY-MM-DD',\n",
        "    'M_Money_Positions_Net_Position'\n",
        "]\n",
        "cot_report = cot_report[cols_to_keep]"
      ]
    },
    {
      "cell_type": "code",
      "execution_count": 7,
      "metadata": {
        "id": "mdtyp9iMum6E"
      },
      "outputs": [],
      "source": [
        "# filter dataframe down to cointegrated commodities only\n",
        "commodities_lst = [\n",
        "    'CORN - CHICAGO BOARD OF TRADE',\n",
        "    'SOYBEANS - CHICAGO BOARD OF TRADE',\n",
        "    'WHEAT - CHICAGO BOARD OF TRADE',\n",
        "    'WHEAT - KANSAS CITY BOARD OF TRADE',\n",
        "    'WHEAT-SRW - CHICAGO BOARD OF TRADE',\n",
        "    'WHEAT-HRW - CHICAGO BOARD OF TRADE',\n",
        "]\n",
        "cot_report = cot_report[cot_report['Market_and_Exchange_Names'].isin(commodities_lst)]"
      ]
    },
    {
      "cell_type": "code",
      "execution_count": 8,
      "metadata": {
        "id": "10gbdbc617Wv"
      },
      "outputs": [],
      "source": [
        "# ensure consistent labeling for srw and hrw contracts\n",
        "cot_report['Market_and_Exchange_Names'] = cot_report['Market_and_Exchange_Names'].replace({\n",
        "    'WHEAT - CHICAGO BOARD OF TRADE': 'WHEAT-SRW - CHICAGO BOARD OF TRADE',\n",
        "    'WHEAT - KANSAS CITY BOARD OF TRADE': 'WHEAT-HRW - CHICAGO BOARD OF TRADE',\n",
        "})"
      ]
    },
    {
      "cell_type": "code",
      "execution_count": 9,
      "metadata": {
        "id": "R7h-6Mw3wFC-"
      },
      "outputs": [],
      "source": [
        "# set report date column as a pandas datetimeindex\n",
        "cot_report['Report_Date_as_YYYY-MM-DD'] = pd.to_datetime(cot_report['Report_Date_as_YYYY-MM-DD'])\n",
        "cot_report = cot_report.sort_values(by='Report_Date_as_YYYY-MM-DD')\n",
        "cot_report.set_index('Report_Date_as_YYYY-MM-DD', inplace=True)"
      ]
    },
    {
      "cell_type": "code",
      "execution_count": 10,
      "metadata": {
        "id": "DFykRMo4AF7F"
      },
      "outputs": [],
      "source": [
        "# format dataframe from long to wide\n",
        "cot_report = cot_report.pivot(\n",
        "    columns='Market_and_Exchange_Names',\n",
        "    values='M_Money_Positions_Net_Position',\n",
        ").rename_axis(columns=None)"
      ]
    },
    {
      "cell_type": "code",
      "execution_count": 11,
      "metadata": {
        "id": "kVcs0f3b9Fnz",
        "colab": {
          "base_uri": "https://localhost:8080/"
        },
        "outputId": "280a4d58-c039-4855-885c-9bfef0e283ce"
      },
      "outputs": [
        {
          "output_type": "execute_result",
          "data": {
            "text/plain": [
              "CORN - CHICAGO BOARD OF TRADE         0\n",
              "SOYBEANS - CHICAGO BOARD OF TRADE     0\n",
              "WHEAT-HRW - CHICAGO BOARD OF TRADE    0\n",
              "WHEAT-SRW - CHICAGO BOARD OF TRADE    0\n",
              "dtype: int64"
            ]
          },
          "metadata": {},
          "execution_count": 11
        }
      ],
      "source": [
        "# check missing values\n",
        "cot_report.isna().sum()"
      ]
    },
    {
      "cell_type": "code",
      "execution_count": 12,
      "metadata": {
        "id": "2m9hqp-r9RKS",
        "colab": {
          "base_uri": "https://localhost:8080/",
          "height": 317
        },
        "outputId": "2e468d07-5667-4e42-b565-127de4655a03"
      },
      "outputs": [
        {
          "output_type": "execute_result",
          "data": {
            "text/plain": [
              "       CORN - CHICAGO BOARD OF TRADE  SOYBEANS - CHICAGO BOARD OF TRADE  \\\n",
              "count                         919.00                             919.00   \n",
              "mean                        94805.61                           70672.34   \n",
              "std                        169355.16                           81862.67   \n",
              "min                       -322215.00                         -168835.00   \n",
              "25%                        -52157.50                           11046.00   \n",
              "50%                        107600.00                           78989.00   \n",
              "75%                        230260.00                          129155.00   \n",
              "max                        429189.00                          253889.00   \n",
              "\n",
              "       WHEAT-HRW - CHICAGO BOARD OF TRADE  WHEAT-SRW - CHICAGO BOARD OF TRADE  \n",
              "count                              919.00                              919.00  \n",
              "mean                             14034.08                           -18689.28  \n",
              "std                              24396.50                            47979.15  \n",
              "min                             -58866.00                          -162327.00  \n",
              "25%                               1399.00                           -49815.50  \n",
              "50%                              13050.00                            -9815.00  \n",
              "75%                              32197.50                            17033.00  \n",
              "max                              73111.00                            80827.00  "
            ],
            "text/html": [
              "\n",
              "  <div id=\"df-e2e0513e-297a-4809-94a0-61a507ebeda3\" class=\"colab-df-container\">\n",
              "    <div>\n",
              "<style scoped>\n",
              "    .dataframe tbody tr th:only-of-type {\n",
              "        vertical-align: middle;\n",
              "    }\n",
              "\n",
              "    .dataframe tbody tr th {\n",
              "        vertical-align: top;\n",
              "    }\n",
              "\n",
              "    .dataframe thead th {\n",
              "        text-align: right;\n",
              "    }\n",
              "</style>\n",
              "<table border=\"1\" class=\"dataframe\">\n",
              "  <thead>\n",
              "    <tr style=\"text-align: right;\">\n",
              "      <th></th>\n",
              "      <th>CORN - CHICAGO BOARD OF TRADE</th>\n",
              "      <th>SOYBEANS - CHICAGO BOARD OF TRADE</th>\n",
              "      <th>WHEAT-HRW - CHICAGO BOARD OF TRADE</th>\n",
              "      <th>WHEAT-SRW - CHICAGO BOARD OF TRADE</th>\n",
              "    </tr>\n",
              "  </thead>\n",
              "  <tbody>\n",
              "    <tr>\n",
              "      <th>count</th>\n",
              "      <td>919.00</td>\n",
              "      <td>919.00</td>\n",
              "      <td>919.00</td>\n",
              "      <td>919.00</td>\n",
              "    </tr>\n",
              "    <tr>\n",
              "      <th>mean</th>\n",
              "      <td>94805.61</td>\n",
              "      <td>70672.34</td>\n",
              "      <td>14034.08</td>\n",
              "      <td>-18689.28</td>\n",
              "    </tr>\n",
              "    <tr>\n",
              "      <th>std</th>\n",
              "      <td>169355.16</td>\n",
              "      <td>81862.67</td>\n",
              "      <td>24396.50</td>\n",
              "      <td>47979.15</td>\n",
              "    </tr>\n",
              "    <tr>\n",
              "      <th>min</th>\n",
              "      <td>-322215.00</td>\n",
              "      <td>-168835.00</td>\n",
              "      <td>-58866.00</td>\n",
              "      <td>-162327.00</td>\n",
              "    </tr>\n",
              "    <tr>\n",
              "      <th>25%</th>\n",
              "      <td>-52157.50</td>\n",
              "      <td>11046.00</td>\n",
              "      <td>1399.00</td>\n",
              "      <td>-49815.50</td>\n",
              "    </tr>\n",
              "    <tr>\n",
              "      <th>50%</th>\n",
              "      <td>107600.00</td>\n",
              "      <td>78989.00</td>\n",
              "      <td>13050.00</td>\n",
              "      <td>-9815.00</td>\n",
              "    </tr>\n",
              "    <tr>\n",
              "      <th>75%</th>\n",
              "      <td>230260.00</td>\n",
              "      <td>129155.00</td>\n",
              "      <td>32197.50</td>\n",
              "      <td>17033.00</td>\n",
              "    </tr>\n",
              "    <tr>\n",
              "      <th>max</th>\n",
              "      <td>429189.00</td>\n",
              "      <td>253889.00</td>\n",
              "      <td>73111.00</td>\n",
              "      <td>80827.00</td>\n",
              "    </tr>\n",
              "  </tbody>\n",
              "</table>\n",
              "</div>\n",
              "    <div class=\"colab-df-buttons\">\n",
              "\n",
              "  <div class=\"colab-df-container\">\n",
              "    <button class=\"colab-df-convert\" onclick=\"convertToInteractive('df-e2e0513e-297a-4809-94a0-61a507ebeda3')\"\n",
              "            title=\"Convert this dataframe to an interactive table.\"\n",
              "            style=\"display:none;\">\n",
              "\n",
              "  <svg xmlns=\"http://www.w3.org/2000/svg\" height=\"24px\" viewBox=\"0 -960 960 960\">\n",
              "    <path d=\"M120-120v-720h720v720H120Zm60-500h600v-160H180v160Zm220 220h160v-160H400v160Zm0 220h160v-160H400v160ZM180-400h160v-160H180v160Zm440 0h160v-160H620v160ZM180-180h160v-160H180v160Zm440 0h160v-160H620v160Z\"/>\n",
              "  </svg>\n",
              "    </button>\n",
              "\n",
              "  <style>\n",
              "    .colab-df-container {\n",
              "      display:flex;\n",
              "      gap: 12px;\n",
              "    }\n",
              "\n",
              "    .colab-df-convert {\n",
              "      background-color: #E8F0FE;\n",
              "      border: none;\n",
              "      border-radius: 50%;\n",
              "      cursor: pointer;\n",
              "      display: none;\n",
              "      fill: #1967D2;\n",
              "      height: 32px;\n",
              "      padding: 0 0 0 0;\n",
              "      width: 32px;\n",
              "    }\n",
              "\n",
              "    .colab-df-convert:hover {\n",
              "      background-color: #E2EBFA;\n",
              "      box-shadow: 0px 1px 2px rgba(60, 64, 67, 0.3), 0px 1px 3px 1px rgba(60, 64, 67, 0.15);\n",
              "      fill: #174EA6;\n",
              "    }\n",
              "\n",
              "    .colab-df-buttons div {\n",
              "      margin-bottom: 4px;\n",
              "    }\n",
              "\n",
              "    [theme=dark] .colab-df-convert {\n",
              "      background-color: #3B4455;\n",
              "      fill: #D2E3FC;\n",
              "    }\n",
              "\n",
              "    [theme=dark] .colab-df-convert:hover {\n",
              "      background-color: #434B5C;\n",
              "      box-shadow: 0px 1px 3px 1px rgba(0, 0, 0, 0.15);\n",
              "      filter: drop-shadow(0px 1px 2px rgba(0, 0, 0, 0.3));\n",
              "      fill: #FFFFFF;\n",
              "    }\n",
              "  </style>\n",
              "\n",
              "    <script>\n",
              "      const buttonEl =\n",
              "        document.querySelector('#df-e2e0513e-297a-4809-94a0-61a507ebeda3 button.colab-df-convert');\n",
              "      buttonEl.style.display =\n",
              "        google.colab.kernel.accessAllowed ? 'block' : 'none';\n",
              "\n",
              "      async function convertToInteractive(key) {\n",
              "        const element = document.querySelector('#df-e2e0513e-297a-4809-94a0-61a507ebeda3');\n",
              "        const dataTable =\n",
              "          await google.colab.kernel.invokeFunction('convertToInteractive',\n",
              "                                                    [key], {});\n",
              "        if (!dataTable) return;\n",
              "\n",
              "        const docLinkHtml = 'Like what you see? Visit the ' +\n",
              "          '<a target=\"_blank\" href=https://colab.research.google.com/notebooks/data_table.ipynb>data table notebook</a>'\n",
              "          + ' to learn more about interactive tables.';\n",
              "        element.innerHTML = '';\n",
              "        dataTable['output_type'] = 'display_data';\n",
              "        await google.colab.output.renderOutput(dataTable, element);\n",
              "        const docLink = document.createElement('div');\n",
              "        docLink.innerHTML = docLinkHtml;\n",
              "        element.appendChild(docLink);\n",
              "      }\n",
              "    </script>\n",
              "  </div>\n",
              "\n",
              "\n",
              "<div id=\"df-4a21653d-497f-4891-b256-8eacfc6aa015\">\n",
              "  <button class=\"colab-df-quickchart\" onclick=\"quickchart('df-4a21653d-497f-4891-b256-8eacfc6aa015')\"\n",
              "            title=\"Suggest charts\"\n",
              "            style=\"display:none;\">\n",
              "\n",
              "<svg xmlns=\"http://www.w3.org/2000/svg\" height=\"24px\"viewBox=\"0 0 24 24\"\n",
              "     width=\"24px\">\n",
              "    <g>\n",
              "        <path d=\"M19 3H5c-1.1 0-2 .9-2 2v14c0 1.1.9 2 2 2h14c1.1 0 2-.9 2-2V5c0-1.1-.9-2-2-2zM9 17H7v-7h2v7zm4 0h-2V7h2v10zm4 0h-2v-4h2v4z\"/>\n",
              "    </g>\n",
              "</svg>\n",
              "  </button>\n",
              "\n",
              "<style>\n",
              "  .colab-df-quickchart {\n",
              "      --bg-color: #E8F0FE;\n",
              "      --fill-color: #1967D2;\n",
              "      --hover-bg-color: #E2EBFA;\n",
              "      --hover-fill-color: #174EA6;\n",
              "      --disabled-fill-color: #AAA;\n",
              "      --disabled-bg-color: #DDD;\n",
              "  }\n",
              "\n",
              "  [theme=dark] .colab-df-quickchart {\n",
              "      --bg-color: #3B4455;\n",
              "      --fill-color: #D2E3FC;\n",
              "      --hover-bg-color: #434B5C;\n",
              "      --hover-fill-color: #FFFFFF;\n",
              "      --disabled-bg-color: #3B4455;\n",
              "      --disabled-fill-color: #666;\n",
              "  }\n",
              "\n",
              "  .colab-df-quickchart {\n",
              "    background-color: var(--bg-color);\n",
              "    border: none;\n",
              "    border-radius: 50%;\n",
              "    cursor: pointer;\n",
              "    display: none;\n",
              "    fill: var(--fill-color);\n",
              "    height: 32px;\n",
              "    padding: 0;\n",
              "    width: 32px;\n",
              "  }\n",
              "\n",
              "  .colab-df-quickchart:hover {\n",
              "    background-color: var(--hover-bg-color);\n",
              "    box-shadow: 0 1px 2px rgba(60, 64, 67, 0.3), 0 1px 3px 1px rgba(60, 64, 67, 0.15);\n",
              "    fill: var(--button-hover-fill-color);\n",
              "  }\n",
              "\n",
              "  .colab-df-quickchart-complete:disabled,\n",
              "  .colab-df-quickchart-complete:disabled:hover {\n",
              "    background-color: var(--disabled-bg-color);\n",
              "    fill: var(--disabled-fill-color);\n",
              "    box-shadow: none;\n",
              "  }\n",
              "\n",
              "  .colab-df-spinner {\n",
              "    border: 2px solid var(--fill-color);\n",
              "    border-color: transparent;\n",
              "    border-bottom-color: var(--fill-color);\n",
              "    animation:\n",
              "      spin 1s steps(1) infinite;\n",
              "  }\n",
              "\n",
              "  @keyframes spin {\n",
              "    0% {\n",
              "      border-color: transparent;\n",
              "      border-bottom-color: var(--fill-color);\n",
              "      border-left-color: var(--fill-color);\n",
              "    }\n",
              "    20% {\n",
              "      border-color: transparent;\n",
              "      border-left-color: var(--fill-color);\n",
              "      border-top-color: var(--fill-color);\n",
              "    }\n",
              "    30% {\n",
              "      border-color: transparent;\n",
              "      border-left-color: var(--fill-color);\n",
              "      border-top-color: var(--fill-color);\n",
              "      border-right-color: var(--fill-color);\n",
              "    }\n",
              "    40% {\n",
              "      border-color: transparent;\n",
              "      border-right-color: var(--fill-color);\n",
              "      border-top-color: var(--fill-color);\n",
              "    }\n",
              "    60% {\n",
              "      border-color: transparent;\n",
              "      border-right-color: var(--fill-color);\n",
              "    }\n",
              "    80% {\n",
              "      border-color: transparent;\n",
              "      border-right-color: var(--fill-color);\n",
              "      border-bottom-color: var(--fill-color);\n",
              "    }\n",
              "    90% {\n",
              "      border-color: transparent;\n",
              "      border-bottom-color: var(--fill-color);\n",
              "    }\n",
              "  }\n",
              "</style>\n",
              "\n",
              "  <script>\n",
              "    async function quickchart(key) {\n",
              "      const quickchartButtonEl =\n",
              "        document.querySelector('#' + key + ' button');\n",
              "      quickchartButtonEl.disabled = true;  // To prevent multiple clicks.\n",
              "      quickchartButtonEl.classList.add('colab-df-spinner');\n",
              "      try {\n",
              "        const charts = await google.colab.kernel.invokeFunction(\n",
              "            'suggestCharts', [key], {});\n",
              "      } catch (error) {\n",
              "        console.error('Error during call to suggestCharts:', error);\n",
              "      }\n",
              "      quickchartButtonEl.classList.remove('colab-df-spinner');\n",
              "      quickchartButtonEl.classList.add('colab-df-quickchart-complete');\n",
              "    }\n",
              "    (() => {\n",
              "      let quickchartButtonEl =\n",
              "        document.querySelector('#df-4a21653d-497f-4891-b256-8eacfc6aa015 button');\n",
              "      quickchartButtonEl.style.display =\n",
              "        google.colab.kernel.accessAllowed ? 'block' : 'none';\n",
              "    })();\n",
              "  </script>\n",
              "</div>\n",
              "\n",
              "    </div>\n",
              "  </div>\n"
            ]
          },
          "metadata": {},
          "execution_count": 12
        }
      ],
      "source": [
        "# check outliers\n",
        "cot_report.describe()"
      ]
    },
    {
      "cell_type": "code",
      "execution_count": 13,
      "metadata": {
        "id": "0b0hQQLlDu77",
        "colab": {
          "base_uri": "https://localhost:8080/"
        },
        "outputId": "2bb9d485-f602-4e2a-f28f-71cb22bce600"
      },
      "outputs": [
        {
          "output_type": "execute_result",
          "data": {
            "text/plain": [
              "0"
            ]
          },
          "metadata": {},
          "execution_count": 13
        }
      ],
      "source": [
        "# check duplicate dates\n",
        "cot_report.duplicated().sum()"
      ]
    },
    {
      "cell_type": "markdown",
      "metadata": {
        "id": "wFBdw7lLHuqI"
      },
      "source": [
        "# Yahoo! Finance price data\n",
        "\n",
        "Speculative money continually moves between asset classes in search of the highest risk-adjusted returns. Broadly speaking, in a low interest rate environment, equities tend to benefit. Whereas during periods of relatively higher interest rates, money flows into fixed income and commodities. Rightly or wrongly, commodities are perceived as an inflation hedge and thus as the Fed increases rates, we tend to observe an allocation of capital into commodities.\n",
        "\n",
        "On this basis, we incorporate price data for the S&P500 and the S&P GSCI. Mostly, with a few exceptions, these two time series show a negative correlation and therefore may provide us with some contain signal regarding when speculative money is flowing out of equities and into commodities, or vice-versa. The assumption is that such an event is akin to a rising tide in the commodities markets, lifting all boats, including the agricultural complex."
      ]
    },
    {
      "cell_type": "markdown",
      "metadata": {
        "id": "nuGu-dk3I18U"
      },
      "source": [
        "## Load data"
      ]
    },
    {
      "cell_type": "code",
      "execution_count": 14,
      "metadata": {
        "id": "yShP9MiOHp5o",
        "colab": {
          "base_uri": "https://localhost:8080/"
        },
        "outputId": "b7ef5225-f38d-4864-a478-3bec81bc1602"
      },
      "outputs": [
        {
          "output_type": "stream",
          "name": "stderr",
          "text": [
            "[*********************100%%**********************]  2 of 2 completed\n"
          ]
        }
      ],
      "source": [
        "# download s&p gsci and s&p 500 price data\n",
        "price_data = yf.download(\n",
        "    ['^SPGSCI', '^GSPC'],\n",
        "    start=cot_report.index[0],\n",
        ")['Adj Close']"
      ]
    },
    {
      "cell_type": "markdown",
      "metadata": {
        "id": "nGoajezALUcH"
      },
      "source": [
        "## Preprocess data"
      ]
    },
    {
      "cell_type": "code",
      "execution_count": 15,
      "metadata": {
        "id": "xqCVIyL2Lhfw",
        "colab": {
          "base_uri": "https://localhost:8080/"
        },
        "outputId": "e4d94ca6-0ffd-4f93-939f-ca64dd8a903c"
      },
      "outputs": [
        {
          "output_type": "execute_result",
          "data": {
            "text/plain": [
              "^GSPC      0\n",
              "^SPGSCI    0\n",
              "dtype: int64"
            ]
          },
          "metadata": {},
          "execution_count": 15
        }
      ],
      "source": [
        "# check missing values\n",
        "price_data.isna().sum()"
      ]
    },
    {
      "cell_type": "code",
      "execution_count": 16,
      "metadata": {
        "id": "U9AM2X64Lhfx",
        "colab": {
          "base_uri": "https://localhost:8080/",
          "height": 300
        },
        "outputId": "72bc5666-7680-49ef-877e-4652ac7edd68"
      },
      "outputs": [
        {
          "output_type": "execute_result",
          "data": {
            "text/plain": [
              "        ^GSPC  ^SPGSCI\n",
              "count 4431.00  4431.00\n",
              "mean  2278.24   514.42\n",
              "std   1101.73   124.77\n",
              "min    676.53   228.24\n",
              "25%   1359.95   409.68\n",
              "50%   2019.64   501.86\n",
              "75%   2917.45   625.31\n",
              "max   4839.81   890.29"
            ],
            "text/html": [
              "\n",
              "  <div id=\"df-75d74710-6638-4969-bcc6-3bbb514e512e\" class=\"colab-df-container\">\n",
              "    <div>\n",
              "<style scoped>\n",
              "    .dataframe tbody tr th:only-of-type {\n",
              "        vertical-align: middle;\n",
              "    }\n",
              "\n",
              "    .dataframe tbody tr th {\n",
              "        vertical-align: top;\n",
              "    }\n",
              "\n",
              "    .dataframe thead th {\n",
              "        text-align: right;\n",
              "    }\n",
              "</style>\n",
              "<table border=\"1\" class=\"dataframe\">\n",
              "  <thead>\n",
              "    <tr style=\"text-align: right;\">\n",
              "      <th></th>\n",
              "      <th>^GSPC</th>\n",
              "      <th>^SPGSCI</th>\n",
              "    </tr>\n",
              "  </thead>\n",
              "  <tbody>\n",
              "    <tr>\n",
              "      <th>count</th>\n",
              "      <td>4431.00</td>\n",
              "      <td>4431.00</td>\n",
              "    </tr>\n",
              "    <tr>\n",
              "      <th>mean</th>\n",
              "      <td>2278.24</td>\n",
              "      <td>514.42</td>\n",
              "    </tr>\n",
              "    <tr>\n",
              "      <th>std</th>\n",
              "      <td>1101.73</td>\n",
              "      <td>124.77</td>\n",
              "    </tr>\n",
              "    <tr>\n",
              "      <th>min</th>\n",
              "      <td>676.53</td>\n",
              "      <td>228.24</td>\n",
              "    </tr>\n",
              "    <tr>\n",
              "      <th>25%</th>\n",
              "      <td>1359.95</td>\n",
              "      <td>409.68</td>\n",
              "    </tr>\n",
              "    <tr>\n",
              "      <th>50%</th>\n",
              "      <td>2019.64</td>\n",
              "      <td>501.86</td>\n",
              "    </tr>\n",
              "    <tr>\n",
              "      <th>75%</th>\n",
              "      <td>2917.45</td>\n",
              "      <td>625.31</td>\n",
              "    </tr>\n",
              "    <tr>\n",
              "      <th>max</th>\n",
              "      <td>4839.81</td>\n",
              "      <td>890.29</td>\n",
              "    </tr>\n",
              "  </tbody>\n",
              "</table>\n",
              "</div>\n",
              "    <div class=\"colab-df-buttons\">\n",
              "\n",
              "  <div class=\"colab-df-container\">\n",
              "    <button class=\"colab-df-convert\" onclick=\"convertToInteractive('df-75d74710-6638-4969-bcc6-3bbb514e512e')\"\n",
              "            title=\"Convert this dataframe to an interactive table.\"\n",
              "            style=\"display:none;\">\n",
              "\n",
              "  <svg xmlns=\"http://www.w3.org/2000/svg\" height=\"24px\" viewBox=\"0 -960 960 960\">\n",
              "    <path d=\"M120-120v-720h720v720H120Zm60-500h600v-160H180v160Zm220 220h160v-160H400v160Zm0 220h160v-160H400v160ZM180-400h160v-160H180v160Zm440 0h160v-160H620v160ZM180-180h160v-160H180v160Zm440 0h160v-160H620v160Z\"/>\n",
              "  </svg>\n",
              "    </button>\n",
              "\n",
              "  <style>\n",
              "    .colab-df-container {\n",
              "      display:flex;\n",
              "      gap: 12px;\n",
              "    }\n",
              "\n",
              "    .colab-df-convert {\n",
              "      background-color: #E8F0FE;\n",
              "      border: none;\n",
              "      border-radius: 50%;\n",
              "      cursor: pointer;\n",
              "      display: none;\n",
              "      fill: #1967D2;\n",
              "      height: 32px;\n",
              "      padding: 0 0 0 0;\n",
              "      width: 32px;\n",
              "    }\n",
              "\n",
              "    .colab-df-convert:hover {\n",
              "      background-color: #E2EBFA;\n",
              "      box-shadow: 0px 1px 2px rgba(60, 64, 67, 0.3), 0px 1px 3px 1px rgba(60, 64, 67, 0.15);\n",
              "      fill: #174EA6;\n",
              "    }\n",
              "\n",
              "    .colab-df-buttons div {\n",
              "      margin-bottom: 4px;\n",
              "    }\n",
              "\n",
              "    [theme=dark] .colab-df-convert {\n",
              "      background-color: #3B4455;\n",
              "      fill: #D2E3FC;\n",
              "    }\n",
              "\n",
              "    [theme=dark] .colab-df-convert:hover {\n",
              "      background-color: #434B5C;\n",
              "      box-shadow: 0px 1px 3px 1px rgba(0, 0, 0, 0.15);\n",
              "      filter: drop-shadow(0px 1px 2px rgba(0, 0, 0, 0.3));\n",
              "      fill: #FFFFFF;\n",
              "    }\n",
              "  </style>\n",
              "\n",
              "    <script>\n",
              "      const buttonEl =\n",
              "        document.querySelector('#df-75d74710-6638-4969-bcc6-3bbb514e512e button.colab-df-convert');\n",
              "      buttonEl.style.display =\n",
              "        google.colab.kernel.accessAllowed ? 'block' : 'none';\n",
              "\n",
              "      async function convertToInteractive(key) {\n",
              "        const element = document.querySelector('#df-75d74710-6638-4969-bcc6-3bbb514e512e');\n",
              "        const dataTable =\n",
              "          await google.colab.kernel.invokeFunction('convertToInteractive',\n",
              "                                                    [key], {});\n",
              "        if (!dataTable) return;\n",
              "\n",
              "        const docLinkHtml = 'Like what you see? Visit the ' +\n",
              "          '<a target=\"_blank\" href=https://colab.research.google.com/notebooks/data_table.ipynb>data table notebook</a>'\n",
              "          + ' to learn more about interactive tables.';\n",
              "        element.innerHTML = '';\n",
              "        dataTable['output_type'] = 'display_data';\n",
              "        await google.colab.output.renderOutput(dataTable, element);\n",
              "        const docLink = document.createElement('div');\n",
              "        docLink.innerHTML = docLinkHtml;\n",
              "        element.appendChild(docLink);\n",
              "      }\n",
              "    </script>\n",
              "  </div>\n",
              "\n",
              "\n",
              "<div id=\"df-56325c47-910f-4ae5-ac5f-93c9f5035dde\">\n",
              "  <button class=\"colab-df-quickchart\" onclick=\"quickchart('df-56325c47-910f-4ae5-ac5f-93c9f5035dde')\"\n",
              "            title=\"Suggest charts\"\n",
              "            style=\"display:none;\">\n",
              "\n",
              "<svg xmlns=\"http://www.w3.org/2000/svg\" height=\"24px\"viewBox=\"0 0 24 24\"\n",
              "     width=\"24px\">\n",
              "    <g>\n",
              "        <path d=\"M19 3H5c-1.1 0-2 .9-2 2v14c0 1.1.9 2 2 2h14c1.1 0 2-.9 2-2V5c0-1.1-.9-2-2-2zM9 17H7v-7h2v7zm4 0h-2V7h2v10zm4 0h-2v-4h2v4z\"/>\n",
              "    </g>\n",
              "</svg>\n",
              "  </button>\n",
              "\n",
              "<style>\n",
              "  .colab-df-quickchart {\n",
              "      --bg-color: #E8F0FE;\n",
              "      --fill-color: #1967D2;\n",
              "      --hover-bg-color: #E2EBFA;\n",
              "      --hover-fill-color: #174EA6;\n",
              "      --disabled-fill-color: #AAA;\n",
              "      --disabled-bg-color: #DDD;\n",
              "  }\n",
              "\n",
              "  [theme=dark] .colab-df-quickchart {\n",
              "      --bg-color: #3B4455;\n",
              "      --fill-color: #D2E3FC;\n",
              "      --hover-bg-color: #434B5C;\n",
              "      --hover-fill-color: #FFFFFF;\n",
              "      --disabled-bg-color: #3B4455;\n",
              "      --disabled-fill-color: #666;\n",
              "  }\n",
              "\n",
              "  .colab-df-quickchart {\n",
              "    background-color: var(--bg-color);\n",
              "    border: none;\n",
              "    border-radius: 50%;\n",
              "    cursor: pointer;\n",
              "    display: none;\n",
              "    fill: var(--fill-color);\n",
              "    height: 32px;\n",
              "    padding: 0;\n",
              "    width: 32px;\n",
              "  }\n",
              "\n",
              "  .colab-df-quickchart:hover {\n",
              "    background-color: var(--hover-bg-color);\n",
              "    box-shadow: 0 1px 2px rgba(60, 64, 67, 0.3), 0 1px 3px 1px rgba(60, 64, 67, 0.15);\n",
              "    fill: var(--button-hover-fill-color);\n",
              "  }\n",
              "\n",
              "  .colab-df-quickchart-complete:disabled,\n",
              "  .colab-df-quickchart-complete:disabled:hover {\n",
              "    background-color: var(--disabled-bg-color);\n",
              "    fill: var(--disabled-fill-color);\n",
              "    box-shadow: none;\n",
              "  }\n",
              "\n",
              "  .colab-df-spinner {\n",
              "    border: 2px solid var(--fill-color);\n",
              "    border-color: transparent;\n",
              "    border-bottom-color: var(--fill-color);\n",
              "    animation:\n",
              "      spin 1s steps(1) infinite;\n",
              "  }\n",
              "\n",
              "  @keyframes spin {\n",
              "    0% {\n",
              "      border-color: transparent;\n",
              "      border-bottom-color: var(--fill-color);\n",
              "      border-left-color: var(--fill-color);\n",
              "    }\n",
              "    20% {\n",
              "      border-color: transparent;\n",
              "      border-left-color: var(--fill-color);\n",
              "      border-top-color: var(--fill-color);\n",
              "    }\n",
              "    30% {\n",
              "      border-color: transparent;\n",
              "      border-left-color: var(--fill-color);\n",
              "      border-top-color: var(--fill-color);\n",
              "      border-right-color: var(--fill-color);\n",
              "    }\n",
              "    40% {\n",
              "      border-color: transparent;\n",
              "      border-right-color: var(--fill-color);\n",
              "      border-top-color: var(--fill-color);\n",
              "    }\n",
              "    60% {\n",
              "      border-color: transparent;\n",
              "      border-right-color: var(--fill-color);\n",
              "    }\n",
              "    80% {\n",
              "      border-color: transparent;\n",
              "      border-right-color: var(--fill-color);\n",
              "      border-bottom-color: var(--fill-color);\n",
              "    }\n",
              "    90% {\n",
              "      border-color: transparent;\n",
              "      border-bottom-color: var(--fill-color);\n",
              "    }\n",
              "  }\n",
              "</style>\n",
              "\n",
              "  <script>\n",
              "    async function quickchart(key) {\n",
              "      const quickchartButtonEl =\n",
              "        document.querySelector('#' + key + ' button');\n",
              "      quickchartButtonEl.disabled = true;  // To prevent multiple clicks.\n",
              "      quickchartButtonEl.classList.add('colab-df-spinner');\n",
              "      try {\n",
              "        const charts = await google.colab.kernel.invokeFunction(\n",
              "            'suggestCharts', [key], {});\n",
              "      } catch (error) {\n",
              "        console.error('Error during call to suggestCharts:', error);\n",
              "      }\n",
              "      quickchartButtonEl.classList.remove('colab-df-spinner');\n",
              "      quickchartButtonEl.classList.add('colab-df-quickchart-complete');\n",
              "    }\n",
              "    (() => {\n",
              "      let quickchartButtonEl =\n",
              "        document.querySelector('#df-56325c47-910f-4ae5-ac5f-93c9f5035dde button');\n",
              "      quickchartButtonEl.style.display =\n",
              "        google.colab.kernel.accessAllowed ? 'block' : 'none';\n",
              "    })();\n",
              "  </script>\n",
              "</div>\n",
              "\n",
              "    </div>\n",
              "  </div>\n"
            ]
          },
          "metadata": {},
          "execution_count": 16
        }
      ],
      "source": [
        "# check outliers\n",
        "price_data.describe()"
      ]
    },
    {
      "cell_type": "code",
      "execution_count": 17,
      "metadata": {
        "id": "jtH6-joVLhfx",
        "colab": {
          "base_uri": "https://localhost:8080/"
        },
        "outputId": "7ea70895-a1e0-4c41-e340-0d57a9f0d6a4"
      },
      "outputs": [
        {
          "output_type": "execute_result",
          "data": {
            "text/plain": [
              "0"
            ]
          },
          "metadata": {},
          "execution_count": 17
        }
      ],
      "source": [
        "# check duplicate dates\n",
        "price_data.duplicated().sum()"
      ]
    },
    {
      "cell_type": "code",
      "execution_count": 18,
      "metadata": {
        "id": "7sODVBnHaU0I"
      },
      "outputs": [],
      "source": [
        "# add 7-day rolling averages for s&p 500 and s&p gsci to capture weekly information\n",
        "price_data['^GSPC_7dma'] = price_data['^GSPC'].rolling(window=5).mean()\n",
        "price_data['^SPGSCI_7dma'] = price_data['^SPGSCI'].rolling(window=5).mean()\n",
        "price_data.dropna(inplace=True)"
      ]
    },
    {
      "cell_type": "markdown",
      "metadata": {
        "id": "EWMrP2XxI6Pg"
      },
      "source": [
        "# Join data\n",
        "\n",
        "Our COT report data is weekly, however our price data is daily. In order to match these two datasets, we perform a left join, thereby downsampling daily price data to weekly. In order to maintain memory of those days which were removed during the downsampling procedure, we also include a 5-day (i.e. one calendar week) rolling moving average of prices. Additionally, this helps smooth out any spurious spikes or drops in price that may have ocurred on the sampling date."
      ]
    },
    {
      "cell_type": "code",
      "execution_count": 219,
      "metadata": {
        "id": "vKOzUPgzMnIf"
      },
      "outputs": [],
      "source": [
        "# merge cot_report and price_data dataframes into a main df\n",
        "main_df = pd.merge(\n",
        "    left=cot_report,\n",
        "    right=price_data,\n",
        "    how='left',\n",
        "    left_index=True,\n",
        "    right_index=True\n",
        ")\n",
        "\n",
        "# handle missing values\n",
        "main_df.ffill(inplace=True)\n",
        "main_df.dropna(inplace=True)"
      ]
    },
    {
      "cell_type": "code",
      "execution_count": 220,
      "metadata": {
        "id": "VLEhkkhv9Vcl"
      },
      "outputs": [],
      "source": [
        "# rename columns for convenience\n",
        "main_df.rename(\n",
        "    columns={\n",
        "        'CORN - CHICAGO BOARD OF TRADE': 'corn',\n",
        "        'SOYBEANS - CHICAGO BOARD OF TRADE': 'soybeans',\n",
        "        'WHEAT-HRW - CHICAGO BOARD OF TRADE': 'wheat_hrw',\n",
        "        'WHEAT-SRW - CHICAGO BOARD OF TRADE': 'wheat_srw',\n",
        "    },\n",
        "    inplace=True,\n",
        ")\n",
        "\n",
        "# rename index\n",
        "main_df.index.rename('Date', inplace=True)"
      ]
    },
    {
      "cell_type": "markdown",
      "metadata": {
        "id": "X3UVnD1RcVhC"
      },
      "source": [
        "# Define independent variable\n",
        "\n",
        "In order to convert our time series problem into a supervised learning problem, we define the CME corn net position at $t_{+1}$ as our response variable $y$."
      ]
    },
    {
      "cell_type": "code",
      "execution_count": 221,
      "metadata": {
        "id": "4GSx8BOmcki1"
      },
      "outputs": [],
      "source": [
        "# create independent variable y and drop missing rows\n",
        "main_df['y'] = main_df['corn'].shift(-1)\n",
        "main_df.dropna(inplace=True)"
      ]
    },
    {
      "cell_type": "markdown",
      "metadata": {
        "id": "h4w3IYlmFiP4"
      },
      "source": [
        "# Feature engineering\n",
        "\n",
        "The best predictive models are those that have access to the best data. By best we mean the most relevant, timely, and generally speaking, more data is better. Most retail investors have access to largely the same data. Therefore, in order to gain an edge, the next best approach is to make intelligent use of the data at hand through clever feature engineering. Below we employ a classic set of data augmentation techniques, which are equally applicable to time series from other domains."
      ]
    },
    {
      "cell_type": "markdown",
      "metadata": {
        "id": "BMGCfDFZansm"
      },
      "source": [
        "## Date features\n",
        "\n",
        "We extract date based features with the understanding that the week, month or quarter in any given year can provide us with information. This is especially pertinent to agricultural commodities as planting and harvesting are eventswhich exert a seasonal influence on futures prices."
      ]
    },
    {
      "cell_type": "code",
      "execution_count": 222,
      "metadata": {
        "id": "XqZxxICuWHwd"
      },
      "outputs": [],
      "source": [
        "def date_features(df):\n",
        "\n",
        "    df['month'] = df.index.month\n",
        "    df['week'] = df.index.isocalendar().week\n",
        "    df['quarter'] = df.index.quarter\n",
        "\n",
        "    return df"
      ]
    },
    {
      "cell_type": "markdown",
      "metadata": {
        "id": "QJRYr6qUyeCg"
      },
      "source": [
        "## Ratio features\n",
        "\n",
        "Next, we calculate various ratios, which is a way to model non-linear interactions among the predictors. Specifically, we attempt to capture information relating to what percentage of all grains are held in corn and how that evolves over time, as well as a more granular look at what proportion is held in corn versus soybeans, SRW wheat and HRW wheat."
      ]
    },
    {
      "cell_type": "code",
      "execution_count": 223,
      "metadata": {
        "id": "Iwgw9CrdCQ8-"
      },
      "outputs": [],
      "source": [
        "def ratio_features(df):\n",
        "\n",
        "    # aggregate feature\n",
        "    df['grains_net_position'] = df['corn'] + df['soybeans'] + df['wheat_hrw'] + df['wheat_srw']\n",
        "\n",
        "    # corn vs. others ratio features\n",
        "    df['corn_soybeans_ratio'] = df['corn'] / df['soybeans']\n",
        "    df['corn_hrw_ratio'] = df['corn'] / df['wheat_hrw']\n",
        "    df['corn_srw_ratio'] = df['corn'] / df['wheat_srw']\n",
        "    df['corn_wheat_ratio'] = df['corn'] / (df['wheat_hrw'] + df['wheat_srw'])\n",
        "    df['corn_grains_net_position_ratio'] = df['corn'] / df['grains_net_position']\n",
        "\n",
        "    # others vs. others ratio features\n",
        "    df['soybeans_grains_net_position_ratio'] = df['soybeans'] / df['grains_net_position']\n",
        "    df['hrw_grains_net_position_ratio'] = df['wheat_hrw'] / df['grains_net_position']\n",
        "    df['srw_grains_net_position_ratio'] = df['wheat_srw'] / df['grains_net_position']\n",
        "    df['wheat_grains_net_position_ratio'] = (df['wheat_hrw'] + df['wheat_srw']) / df['grains_net_position']\n",
        "\n",
        "    return df"
      ]
    },
    {
      "cell_type": "markdown",
      "metadata": {
        "id": "0vffVwZKN-Au"
      },
      "source": [
        "## Return features\n"
      ]
    },
    {
      "cell_type": "code",
      "execution_count": 224,
      "metadata": {
        "id": "jeYqa-cIzorj"
      },
      "outputs": [],
      "source": [
        "def return_features(df, columns, periods):\n",
        "\n",
        "    for period in range(1, periods+1):\n",
        "        new_cols = [f'{col}_return_{period}t' for col in columns]\n",
        "        df[new_cols] = df[columns].shift(periods=period)\n",
        "\n",
        "    return df"
      ]
    },
    {
      "cell_type": "markdown",
      "metadata": {
        "id": "XkpPC5W7ylvM"
      },
      "source": [
        "## Rolling features"
      ]
    },
    {
      "cell_type": "code",
      "execution_count": 225,
      "metadata": {
        "id": "TPr57V2ImL39"
      },
      "outputs": [],
      "source": [
        "def rolling_features(df, columns, windows):\n",
        "\n",
        "    mean_cols = [f'{col}_mean' for col in columns]\n",
        "    std_cols = [f'{col}_std' for col in columns]\n",
        "    min_cols = [f'{col}_min' for col in columns]\n",
        "    max_cols = [f'{col}_max' for col in columns]\n",
        "\n",
        "    # add rolling mean, std, min and max features\n",
        "    for window in windows:\n",
        "\n",
        "        mean_colnames = [f'{col}_{window}t' for col in mean_cols]\n",
        "        df[mean_colnames] = df[columns].rolling(window=window).mean()\n",
        "\n",
        "        std_colnames = [f'{col}_{window}t' for col in std_cols]\n",
        "        df[std_colnames] = df[columns].rolling(window=window).std()\n",
        "\n",
        "        min_colnames = [f'{col}_{window}t' for col in min_cols]\n",
        "        df[min_colnames] = df[columns].rolling(window=window).min()\n",
        "\n",
        "        max_colnames = [f'{col}_{window}t' for col in max_cols]\n",
        "        df[max_colnames] = df[columns].rolling(window=window).max()\n",
        "\n",
        "    return df"
      ]
    },
    {
      "cell_type": "markdown",
      "metadata": {
        "id": "HASUwSsEyilq"
      },
      "source": [
        "## Lagged features"
      ]
    },
    {
      "cell_type": "code",
      "execution_count": 226,
      "metadata": {
        "id": "dimHZ7DX6oSL"
      },
      "outputs": [],
      "source": [
        "def lagged_features(df, columns, lags):\n",
        "\n",
        "    for lag in range(1, lags+1):\n",
        "        new_cols = [f'{col}_t-{lag}' for col in columns]\n",
        "        df[new_cols] = df[columns].shift(periods=lag)\n",
        "\n",
        "    return df"
      ]
    },
    {
      "cell_type": "markdown",
      "metadata": {
        "id": "A5kRHDNq0S5o"
      },
      "source": [
        "# Augment dataset\n",
        "\n",
        "Here we specify\n",
        "\n",
        "This allows us to look at weekly percentage changes or calculate the percentage change between the most recent observations\n",
        "\n",
        "Lastly, we take lagged values of our dependent variable as predictors. This approach is identical to what one would expect in an ARIMA model, specifically the AR part. The MA part is also captured, in this case through our choice of model, which is a gradient boosted decision tree. Similar to how the MA"
      ]
    },
    {
      "cell_type": "code",
      "execution_count": 227,
      "metadata": {
        "id": "B3S7uyDSxFGP"
      },
      "outputs": [],
      "source": [
        "# number of periods and list of features for which to calculate returns\n",
        "periods = 4\n",
        "return_cols = [\n",
        "    'corn', 'soybeans', 'wheat_hrw', 'wheat_srw',\n",
        "    'corn_soybeans_ratio', 'corn_hrw_ratio', 'corn_srw_ratio', 'corn_wheat_ratio',\n",
        "    'grains_net_position', 'corn_grains_net_position_ratio',\n",
        "    '^GSPC', '^SPGSCI', '^GSPC_7dma', '^SPGSCI_7dma',\n",
        "]\n",
        "\n",
        "# window length and list of features for which to calculate rolling statistics\n",
        "windows = [4, 8, 12]\n",
        "rolling_cols = [\n",
        "    'corn',\n",
        "    # 'corn_soybeans_ratio', 'corn_hrw_ratio', 'corn_srw_ratio', 'corn_wheat_ratio',\n",
        "    'grains_net_position', 'corn_grains_net_position_ratio',\n",
        "]\n",
        "\n",
        "# number of lags and list of features on which to perform lagged operation\n",
        "lags = 12\n",
        "lagged_cols = [\n",
        "    'corn',\n",
        "    'corn_return_1t',\n",
        "    'corn_grains_net_position_ratio_return_1t',\n",
        "]"
      ]
    },
    {
      "cell_type": "code",
      "execution_count": 228,
      "metadata": {
        "id": "7zcbUK_J4DSO"
      },
      "outputs": [],
      "source": [
        "def feature_engineering(df):\n",
        "\n",
        "    df = date_features(df)\n",
        "    df = ratio_features(df)\n",
        "    df = return_features(df, return_cols, periods)\n",
        "    df = rolling_features(df, rolling_cols, windows)\n",
        "    df = lagged_features(df, lagged_cols, lags)\n",
        "\n",
        "    return df"
      ]
    },
    {
      "cell_type": "code",
      "execution_count": 229,
      "metadata": {
        "id": "7K9smz5mIEeD",
        "colab": {
          "base_uri": "https://localhost:8080/"
        },
        "outputId": "f3db9c2b-28ea-445d-9d82-46cb19aa1a64"
      },
      "outputs": [
        {
          "output_type": "stream",
          "name": "stdout",
          "text": [
            "(917, 150)\n",
            "CPU times: user 180 ms, sys: 979 µs, total: 181 ms\n",
            "Wall time: 191 ms\n"
          ]
        }
      ],
      "source": [
        "%%time\n",
        "main_df = feature_engineering(main_df)\n",
        "print(main_df.shape)"
      ]
    },
    {
      "cell_type": "markdown",
      "metadata": {
        "id": "sITmzffqkULB"
      },
      "source": [
        "# Train test split\n",
        "\n",
        "We specifiy all data up to and including the year 2021 as our training set. We do not set aside a separate validation set considering the limited size of our dataset to begin with. Rather, we will use a time series cross validation approach, thereby reusing our scarce data optimally in order to tune our model and evaluate its performance. Lastly, we will perform one final assessment of our model on the unseen test set which runs from 2022 until present."
      ]
    },
    {
      "cell_type": "code",
      "execution_count": 230,
      "metadata": {
        "id": "JxQcv_sEFjff"
      },
      "outputs": [],
      "source": [
        "# specify date for end of training data\n",
        "end_train_date = '2021-12-31'\n",
        "\n",
        "# split data into train and test sets\n",
        "train_df = main_df[:end_train_date]\n",
        "\n",
        "# split data into X and y\n",
        "X_train = train_df.drop('y', axis=1)\n",
        "y_train = train_df['y']"
      ]
    },
    {
      "cell_type": "markdown",
      "metadata": {
        "id": "ryDE_W-jGWXp"
      },
      "source": [
        "# Train model\n",
        "\n",
        "We will XGBoost Regressor as our model, a gradient boosted decision tree for regression problems. This model is known to perform exceptionally well on tabular data and is both a frequent winner in Kaggle competitions and widely used in industry."
      ]
    },
    {
      "cell_type": "code",
      "execution_count": 231,
      "metadata": {
        "id": "vQ6UhuRtgOyr"
      },
      "outputs": [],
      "source": [
        "%%capture\n",
        "\n",
        "# instantiate untuned base model\n",
        "params = {\n",
        "    'n_estimators': 500,\n",
        "    'n_jobs': -1,\n",
        "    'random_state': 42,\n",
        "    'importance_type': 'gain',\n",
        "}\n",
        "estimator = xgb.XGBRegressor(**params)\n",
        "estimator.fit(X_train, y_train)"
      ]
    },
    {
      "cell_type": "markdown",
      "metadata": {
        "id": "BoLXpNrWf-Vs"
      },
      "source": [
        "## Feature importances\n",
        "\n",
        "The below chart reinforces what we empirically know to be true, namely that financial time series contain a very low signal-to-noise ratio. This chart tells us that the observation at current time step $t$ is by far the most informative feature in predicting our response variable $t_{+1}$.\n",
        "\n",
        "In order to calculate our feature importances we use the 'gain' metric, which represents the improvement in accuracy or reduction in the loss function that a particular feature brings to our model. The actual numerical value produced by the gain calculation is non-intuitive and only useful when comparing different features in the same model."
      ]
    },
    {
      "cell_type": "code",
      "source": [
        "# plot feature importances\n",
        "plot_importance(estimator, max_num_features=25, importance_type='gain')\n",
        "plt.show()"
      ],
      "metadata": {
        "colab": {
          "base_uri": "https://localhost:8080/"
        },
        "id": "8W-iyUMd7ubz",
        "outputId": "ea365193-9d24-45de-c5f5-88f28af28bbe"
      },
      "execution_count": 232,
      "outputs": [
        {
          "output_type": "display_data",
          "data": {
            "text/plain": [
              "<Figure size 640x480 with 1 Axes>"
            ],
            "image/png": "[encoded data removed]"
          },
          "metadata": {}
        }
      ]
    },
    {
      "cell_type": "markdown",
      "metadata": {
        "id": "6Y-UvXTqwXXi"
      },
      "source": [
        "## Feature selection\n",
        "\n",
        "based on the above graph we see that beyond corn everything tails off quickly\n",
        "we arbitrarily trim down to 50, although even that is likely to contain many features with no predictive power but these will get regularised away through an elastic net in order to prevent overfitting"
      ]
    },
    {
      "cell_type": "code",
      "execution_count": 233,
      "metadata": {
        "id": "qA-mQrFJxHWc"
      },
      "outputs": [],
      "source": [
        "# keep sqrt(observations) as # of features\n",
        "k = int(len(X_train)**0.5)\n",
        "\n",
        "# get feature importance scores\n",
        "importance_scores = estimator.feature_importances_\n",
        "feature_names = X_train.columns\n",
        "feature_importance_df = pd.DataFrame({'Feature': feature_names, 'Importance': importance_scores})\n",
        "feature_importance_df = feature_importance_df.sort_values(by='Importance', ascending=False)\n",
        "k_best_cols = feature_importance_df.iloc[:k]['Feature'].values\n",
        "\n",
        "# select k best features\n",
        "main_df = main_df[k_best_cols.tolist() + ['y']]\n",
        "X_train = X_train[k_best_cols]"
      ]
    },
    {
      "cell_type": "markdown",
      "metadata": {
        "id": "I5SpwAt4GbRQ"
      },
      "source": [
        "## Hyperparameter tuning\n",
        "\n",
        "There are three flavours of hyperparameter tuning, via exhaustive grid search, via a randomised grid search, and employing Bayesian optimisation algorithms. An exhaustive grid search has well known limitations in that it fails to consider the subspace between the predefined hyperparameters. A randomised search does better, but still does not consider convexity in the loss surface. Therefore, we opt to use the Optuna library, which employs Bayesian optimisation to iteratively consider a more optimal combination of hyperparameters thereby reducing the loss function.\n",
        "\n",
        "In our case, we specify the metric to be minimised as the RMSE.\n",
        "\n",
        "robustness\n",
        "time series cross validation\n",
        "\n",
        "30 trials works well empirically"
      ]
    },
    {
      "cell_type": "code",
      "execution_count": null,
      "metadata": {
        "id": "UWwNpTk0aAp3",
        "colab": {
          "base_uri": "https://localhost:8080/"
        },
        "outputId": "d30a2fdf-baaf-49ef-881d-45c3135fe762"
      },
      "outputs": [
        {
          "output_type": "stream",
          "name": "stderr",
          "text": [
            "[I 2024-01-22 13:23:35,453] A new study created in memory with name: no-name-3ee55943-6fe5-4821-b660-d4da726917fa\n"
          ]
        }
      ],
      "source": [
        "%%time\n",
        "\n",
        "def objective(trial):\n",
        "\n",
        "    # xgboost regressor hyperparameters to explore\n",
        "    params = {\n",
        "        'n_estimators': trial.suggest_int('n_estimators', 100, 1000),\n",
        "        'max_depth': trial.suggest_int('max_depth', 2, 6),\n",
        "        'learning_rate': trial.suggest_float('learning_rate', 1e-3, 0.1, log=True),\n",
        "        'n_jobs': -1,\n",
        "        'colsample_bytree': trial.suggest_float('colsample_bytree', 0.8, 1.),\n",
        "        'reg_alpha': trial.suggest_float('reg_alpha', 0., 3.),\n",
        "        'reg_lambda': trial.suggest_float('reg_lambda', 0., 3.),\n",
        "        'random_state': 42,\n",
        "        'importance_type': 'gain',\n",
        "    }\n",
        "\n",
        "    # time series cross validation\n",
        "    n_samples = len(train_df)\n",
        "    tscv = TimeSeriesSplit(n_splits=5, test_size=52) # test folds of approx one year each\n",
        "\n",
        "    # get mae for each cross validation fold\n",
        "    scores = cross_val_score(\n",
        "        estimator=xgb.XGBRegressor(**params),\n",
        "        X=X_train,\n",
        "        y=y_train,\n",
        "        scoring='neg_mean_squared_error',\n",
        "        cv=tscv,\n",
        "    )\n",
        "\n",
        "    # return average mae across folds\n",
        "    return np.mean(scores)\n",
        "\n",
        "# run bayesian hyperparameter optimisation with 30 trials\n",
        "study = optuna.create_study(direction='maximize')\n",
        "study.optimize(objective, n_trials=30, gc_after_trial=True)"
      ]
    },
    {
      "cell_type": "code",
      "execution_count": null,
      "metadata": {
        "id": "41pjo3S7ovIe"
      },
      "outputs": [],
      "source": [
        "# display best hyperparameters\n",
        "print('Best hyperparameters:', study.best_params)"
      ]
    },
    {
      "cell_type": "code",
      "execution_count": null,
      "metadata": {
        "id": "he_pPGs-aFX1"
      },
      "outputs": [],
      "source": [
        "%%capture\n",
        "\n",
        "# instantiate new model with best hyperparameters\n",
        "estimator = xgb.XGBRegressor(**study.best_trial.params)\n",
        "\n",
        "# refit model\n",
        "estimator.fit(X_train, y_train)"
      ]
    },
    {
      "cell_type": "markdown",
      "metadata": {
        "id": "jsYHmJzIVbTc"
      },
      "source": [
        "# Walk forward model evaluation"
      ]
    },
    {
      "cell_type": "code",
      "execution_count": null,
      "metadata": {
        "id": "dt2eVpTN50In"
      },
      "outputs": [],
      "source": [
        "def expanding_walk_forward_evaluation(df, model='naive', train_size=0.8):\n",
        "  \"\"\"\n",
        "  Performs an expanding walk-forward evaluation, where the model is trained\n",
        "  on an increasing portion of the input data and evaluated on the subsequent time step.\n",
        "  Note that the terms test and evaluation can be used interchangeably, as this function\n",
        "  can be applied to either depending on the data provided.\n",
        "\n",
        "  Parameters:\n",
        "      - df (pd.DataFrame): DataFrame containing time series data as a supervised learning problem.\n",
        "          Can have any number of X features, but y response vector must be 'y'.\n",
        "      - model: Predictive model to be trained and evaluated. Must have .fit() and .predict() methods.\n",
        "          If no model is specified, it will use a naive forecast taking the value of the most recent\n",
        "          timestamp as the forecast value for t+1.\n",
        "      - train_size (float): Fraction of data to use as the initial (unexpanded) training set.\n",
        "\n",
        "  Returns:\n",
        "      - y_trues (Series): Ground truth labels for the test set.\n",
        "      - y_preds (Series): Predicted values for the test set.\n",
        "      - residuals (Series): Residuals as ground truth minus predicted values.\n",
        "      - mape (float): Mean Absolute Percentage Error between ground truth and predicted values.\n",
        "  \"\"\"\n",
        "\n",
        "  # create a copy of dataframe to avoid override\n",
        "  df = df.copy()\n",
        "\n",
        "  # define X feature matrix and y response vector\n",
        "  X = df.drop(columns='y')\n",
        "  y = df['y']\n",
        "\n",
        "  # index used to mark boundary between expanding training set and t+1 test set\n",
        "  idx = int(len(df) * train_size)\n",
        "\n",
        "  # ground truth labels and empty list to collect predicted values\n",
        "  y_trues = y.iloc[idx:]\n",
        "  y_preds = pd.Series(index=y_trues.index, dtype=np.float32)\n",
        "\n",
        "  # naive forecast\n",
        "  if model == 'naive':\n",
        "    y_preds.loc[y_trues.index] = y.iloc[idx-1:-1].values\n",
        "\n",
        "  # model specific forecast\n",
        "  else:\n",
        "    # perform walk forward evaluation\n",
        "    for step in trange(len(df[idx:])):\n",
        "\n",
        "      # training set for this fold\n",
        "      X_train = X[:idx]\n",
        "      y_train = y[:idx]\n",
        "\n",
        "      # test set for this fold\n",
        "      X_test = X.iloc[[idx]]\n",
        "\n",
        "      # fit model using training set and use trained model to predict t+1\n",
        "      model.fit(X_train, y_train)\n",
        "      y_pred = model.predict(X_test)[0]\n",
        "      y_preds[y_trues.index[step]] = y_pred\n",
        "\n",
        "      # increment train-test boundary index\n",
        "      idx += 1\n",
        "\n",
        "  # compute residual and performance metrics\n",
        "  residuals = y_trues - y_preds\n",
        "  rmse = mean_squared_error(y_trues, y_preds, squared=False)\n",
        "  mae = mean_absolute_error(y_trues, y_preds)\n",
        "  mape = mean_absolute_percentage_error(y_trues, y_preds)\n",
        "\n",
        "  return y_trues, y_preds, residuals, mape, rmse"
      ]
    },
    {
      "cell_type": "markdown",
      "metadata": {
        "id": "mfDRXwXWm3M4"
      },
      "source": [
        "## Naive forecast performance on test set"
      ]
    },
    {
      "cell_type": "code",
      "execution_count": null,
      "metadata": {
        "id": "Y1JXcary1eDA"
      },
      "outputs": [],
      "source": [
        "naive_forecast = expanding_walk_forward_evaluation(\n",
        "    df = main_df,\n",
        "    train_size = len(train_df) / len(main_df),\n",
        ")"
      ]
    },
    {
      "cell_type": "code",
      "execution_count": null,
      "metadata": {
        "id": "HFbI1e9D5E6s"
      },
      "outputs": [],
      "source": [
        "print(f\"\"\"\n",
        "  BENCHMARK METRICS\n",
        "  Using a naive forecast\n",
        "  - - -\n",
        "  RMSE: {naive_forecast[-1]:.3f}\n",
        "  MAPE: {naive_forecast[-2]:.3f}\n",
        "  \"\"\"\n",
        "  )"
      ]
    },
    {
      "cell_type": "markdown",
      "metadata": {
        "id": "KRaN5d9by-rY"
      },
      "source": [
        "## Tuned model performance on test set"
      ]
    },
    {
      "cell_type": "code",
      "execution_count": null,
      "metadata": {
        "id": "YD35IKAlS-Gn"
      },
      "outputs": [],
      "source": [
        "%%time\n",
        "\n",
        "xgb_forecast = expanding_walk_forward_evaluation(\n",
        "    df = main_df,\n",
        "    model = estimator,\n",
        "    train_size = len(train_df) / len(main_df),\n",
        ")"
      ]
    },
    {
      "cell_type": "code",
      "execution_count": null,
      "metadata": {
        "id": "ZZWiKenj8kWb"
      },
      "outputs": [],
      "source": [
        "print(f\"\"\"\n",
        "  PERFORMANCE METRICS\n",
        "  Using XGBoost Regressor\n",
        "  - - -\n",
        "  RMSE: {xgb_forecast[-1]:.3f}\n",
        "  MAPE: {xgb_forecast[-2]:.3f}\n",
        "  \"\"\"\n",
        "  )"
      ]
    },
    {
      "cell_type": "code",
      "source": [
        "# Best hyperparameters: {'n_estimators': 640, 'max_depth': 3, 'learning_rate': 0.016763951670557227, 'colsample_bytree': 0.9040397141729954, 'reg_alpha': 0.8246081245555978, 'reg_lambda': 0.7756012109443594}\n",
        "\n",
        "#   PERFORMANCE METRICS\n",
        "#   Using XGBoost Regressor\n",
        "#   - - -\n",
        "#   RMSE: 35863.337\n",
        "#   MAPE: 0.579"
      ],
      "metadata": {
        "id": "Ld2qXM7FVcal"
      },
      "execution_count": null,
      "outputs": []
    },
    {
      "cell_type": "code",
      "source": [
        "# Best hyperparameters: {'n_estimators': 499, 'max_depth': 3, 'learning_rate': 0.018411189162224156, 'colsample_bytree': 0.98350433739598, 'reg_alpha': 1.240467717611808, 'reg_lambda': 1.119835010072756}\n",
        "\n",
        "#   PERFORMANCE METRICS\n",
        "#   Using XGBoost Regressor\n",
        "#   - - -\n",
        "#   RMSE: 35690.397\n",
        "#   MAPE: 0.547"
      ],
      "metadata": {
        "id": "-d6-e_54TGJy"
      },
      "execution_count": null,
      "outputs": []
    },
    {
      "cell_type": "code",
      "source": [
        "# Best hyperparameters: {'n_estimators': 862, 'max_depth': 2, 'learning_rate': 0.008936780640485809, 'colsample_bytree': 0.89766524495552, 'reg_alpha': 1.814962819240926, 'reg_lambda': 1.9629632541411715}\n",
        "\n",
        "#   PERFORMANCE METRICS\n",
        "#   Using XGBoost Regressor\n",
        "#   - - -\n",
        "#   RMSE: 35734.198\n",
        "#   MAPE: 0.496"
      ],
      "metadata": {
        "id": "_CBiLzCeNdmT"
      },
      "execution_count": null,
      "outputs": []
    },
    {
      "cell_type": "code",
      "source": [
        "# Best hyperparameters: {'n_estimators': 274, 'max_depth': 3, 'learning_rate': 0.018299594352154606, 'reg_alpha': 0.9705269790036158, 'reg_lambda': 0.22835534380745123}\n",
        "\n",
        "#   PERFORMANCE METRICS\n",
        "#   Using XGBoost Regressor\n",
        "#   - - -\n",
        "#   RMSE: 35358.551\n",
        "#   MAPE: 0.502\n"
      ],
      "metadata": {
        "id": "5N8Jq-B-Ljwn"
      },
      "execution_count": null,
      "outputs": []
    },
    {
      "cell_type": "code",
      "source": [
        "# Best hyperparameters: {'n_estimators': 619, 'max_depth': 2, 'learning_rate': 0.01491787834877242, 'reg_alpha': 1.1722687189351053, 'reg_lambda': 2.9394257148889222}\n",
        "\n",
        "#   PERFORMANCE METRICS\n",
        "#   Using XGBoost Regressor\n",
        "#   - - -\n",
        "#   RMSE: 35565.252\n",
        "#   MAPE: 0.482"
      ],
      "metadata": {
        "id": "dRrIVI35JCbR"
      },
      "execution_count": null,
      "outputs": []
    },
    {
      "cell_type": "code",
      "source": [
        "# Best hyperparameters: {'n_estimators': 499, 'max_depth': 2, 'learning_rate': 0.03627389108507152, 'reg_alpha': 1.5295905200781306, 'reg_lambda': 1.9393475914626839}\n",
        "\n",
        "#   PERFORMANCE METRICS\n",
        "#   Using XGBoost Regressor\n",
        "#   - - -\n",
        "#   RMSE: 35656.772\n",
        "#   MAPE: 0.504"
      ],
      "metadata": {
        "id": "dTlXYCc8FvHW"
      },
      "execution_count": null,
      "outputs": []
    },
    {
      "cell_type": "code",
      "source": [
        "# Best hyperparameters: {'n_estimators': 481, 'max_depth': 2, 'learning_rate': 0.016654784367005494, 'reg_alpha': 2.692247037289639, 'reg_lambda': 2.347359719574953}\n",
        "\n",
        "#   PERFORMANCE METRICS\n",
        "#   Using XGBoost Regressor\n",
        "#   - - -\n",
        "#   RMSE: 35479.568\n",
        "#   MAPE: 0.485"
      ],
      "metadata": {
        "id": "fVppmBQUCX1X"
      },
      "execution_count": null,
      "outputs": []
    },
    {
      "cell_type": "markdown",
      "metadata": {
        "id": "L-kebAjg5ceW"
      },
      "source": [
        "## Residuals analysis"
      ]
    },
    {
      "cell_type": "code",
      "execution_count": null,
      "metadata": {
        "id": "BsNz7dOU5cej"
      },
      "outputs": [],
      "source": [
        "y_trues, y_preds, residuals, mape, rmse = xgb_forecast"
      ]
    },
    {
      "cell_type": "markdown",
      "metadata": {
        "id": "SSvOeK9NGFEQ"
      },
      "source": [
        "First, we visually inspect whether our residuals appear to be a white noise series with a mean of zero and constant variance. This indeed appears to be the case."
      ]
    },
    {
      "cell_type": "code",
      "execution_count": null,
      "metadata": {
        "id": "0jhLy5xl-OpX"
      },
      "outputs": [],
      "source": [
        "residuals.plot()\n",
        "plt.title(f'Residuals: observed minus actual')\n",
        "plt.show()"
      ]
    },
    {
      "cell_type": "markdown",
      "metadata": {
        "id": "jhTcq0oIGOmx"
      },
      "source": [
        "Next, we use a more robust approach by checking whether our residuals are normally distributed. This indeed appears to be the case with a mean very close to zero and a familiar bell-shaped curve, albeit with fatter tails, as expected from a financial time series."
      ]
    },
    {
      "cell_type": "code",
      "execution_count": null,
      "metadata": {
        "id": "QEWnglsTFSWS"
      },
      "outputs": [],
      "source": [
        "residuals.plot(kind='density')\n",
        "plt.title(f'Residuals density: mean {residuals.mean():.3f}')\n",
        "plt.ticklabel_format(style='sci', axis='x', scilimits=(0,0))\n",
        "plt.show()"
      ]
    },
    {
      "cell_type": "code",
      "source": [
        "# perform shapiro-wilk test of normality on residuals\n",
        "statistic, p_value = shapiro(residuals)\n",
        "\n",
        "print(f'Shapiro-Wilk Test Statistic:\\t{statistic:.6f}')\n",
        "print(f'p-value:\\t\\t\\t{p_value:.6f}')\n",
        "print('- - -')\n",
        "\n",
        "# interpret the results\n",
        "if p_value <= 0.05:\n",
        "    print('Reject the null hypothesis (H0) \\nThe residuals time series was not drawn from a normal distribution')\n",
        "else:\n",
        "    print('Fail to reject the null hypothesis (H0) \\nThe residuals time series was drawn from a normal distribution')"
      ],
      "metadata": {
        "id": "Myu3gbBw_DEn"
      },
      "execution_count": null,
      "outputs": []
    },
    {
      "cell_type": "markdown",
      "metadata": {
        "id": "k8IsINgIG341"
      },
      "source": [
        "Next, we check whether our residuals still contain any signal in the form of autocorrelation. The first spike is the correlation of a residual with itself, which is 100%. Beyond that, there are no statistically significant lagged values, i.e. ones that are noticeably beyond the blue confidence band. We do see 1-2 values slighly outside the confidence band, however we would expect 1-2 false positives given the default alpha threshold of 0.05."
      ]
    },
    {
      "cell_type": "code",
      "execution_count": null,
      "metadata": {
        "id": "Xkt47Ua6FlIt"
      },
      "outputs": [],
      "source": [
        "sm.graphics.tsa.plot_acf(residuals, lags=20)\n",
        "plt.show()"
      ]
    },
    {
      "cell_type": "markdown",
      "metadata": {
        "id": "fwpod0JTHulJ"
      },
      "source": [
        "Our final test is to see whether the residuals are stationary. If they are not, our model is potentially leaving some signal unaccounted for. The Augmented Dicky-Fuller test results in a p-value very close to zero, which leads us to reject the null hypothesis and conclude that the residuals time series is indeed stationary."
      ]
    },
    {
      "cell_type": "code",
      "execution_count": null,
      "metadata": {
        "id": "9yIU03bkIRxQ"
      },
      "outputs": [],
      "source": [
        "# perform adf test\n",
        "result = sm.tsa.adfuller(residuals)\n",
        "\n",
        "# extract and print the test statistic and p-value\n",
        "adf_statistic = result[0]\n",
        "p_value = result[1]\n",
        "\n",
        "print(f'ADF Statistic:\\t{adf_statistic:.6f}')\n",
        "print(f'p-value:\\t{p_value:.6f}')\n",
        "print('- - -')\n",
        "\n",
        "# interpret the results\n",
        "if p_value <= 0.05:\n",
        "    print('Reject the null hypothesis (H0) \\nThe residuals time series is stationary')\n",
        "else:\n",
        "    print('Fail to reject the null hypothesis (H0) \\nThe residuals time series is non-stationary')"
      ]
    },
    {
      "cell_type": "markdown",
      "metadata": {
        "id": "-Mq8mK1W9QCN"
      },
      "source": [
        "# Results"
      ]
    },
    {
      "cell_type": "markdown",
      "metadata": {
        "id": "k31gedXM9Fw5"
      },
      "source": [
        "# Conclusion"
      ]
    },
    {
      "cell_type": "markdown",
      "metadata": {
        "id": "jeDKr6dr9Sh8"
      },
      "source": [
        "# Further investigation"
      ]
    },
    {
      "cell_type": "markdown",
      "metadata": {
        "id": "wSRElZ_lPLjw"
      },
      "source": [
        "# Dependencies"
      ]
    },
    {
      "cell_type": "code",
      "execution_count": null,
      "metadata": {
        "id": "LGXQnSBIE9Cj"
      },
      "outputs": [],
      "source": [
        "# show dependencies\n",
        "%load_ext watermark\n",
        "%watermark --python --iversions"
      ]
    },
    {
      "cell_type": "code",
      "execution_count": null,
      "metadata": {
        "id": "syJGDfWFPQL2"
      },
      "outputs": [],
      "source": [
        "# last recorded dependencies as per 21 Jan 2024\n",
        "\n",
        "# Python implementation: CPython\n",
        "# Python version       : 3.10.12\n",
        "# IPython version      : 7.34.0\n",
        "\n",
        "# pandas     : 1.5.3\n",
        "# numpy      : 1.23.5\n",
        "# lightgbm   : 4.1.0\n",
        "# matplotlib : 3.7.1\n",
        "# yfinance   : 0.2.35\n",
        "# seaborn    : 0.13.1\n",
        "# cot_reports: 0.1.3\n",
        "# optuna     : 3.5.0"
      ]
    },
    {
      "cell_type": "markdown",
      "metadata": {
        "id": "O7d11OvNPVnB"
      },
      "source": [
        "# END"
      ]
    }
  ],
  "metadata": {
    "colab": {
      "toc_visible": true,
      "provenance": [],
      "mount_file_id": "1BhxFJ9f3I05i8-ggIH6G8QrpwlJoxlYb",
      "authorship_tag": "ABX9TyMnBMD3gR9wTlVnVWfTSbbI",
      "include_colab_link": true
    },
    "kernelspec": {
      "display_name": "Python 3",
      "name": "python3"
    },
    "language_info": {
      "name": "python"
    }
  },
  "nbformat": 4,
  "nbformat_minor": 0
}